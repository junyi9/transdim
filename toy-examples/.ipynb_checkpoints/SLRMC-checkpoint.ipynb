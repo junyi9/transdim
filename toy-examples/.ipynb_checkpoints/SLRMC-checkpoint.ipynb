{
 "cells": [
  {
   "cell_type": "markdown",
   "metadata": {},
   "source": [
    "This notebook mainly implements the **Structured Low-Rank Matrix Completion (SLRMC)** of the following paper:\n",
    "\n",
    "Jonathan Gillard, Konstantin Usevich (2018). Structured low-rank matrix completion for forecasting in time series analysis. arXiv:1802.08242.\n",
    "\n",
    "Technical highlights:\n",
    "\n",
    "- Embed a time series into a Hankel matrix and the missing data (to be forecasted) are stored in the bottom right-hand corner of this matrix.\n",
    "- Consider a matrix completion problem for Hankel matrices.\n",
    "- Choose a proper weighting scheme for the known observations."
   ]
  },
  {
   "cell_type": "code",
   "execution_count": 1,
   "metadata": {},
   "outputs": [],
   "source": [
    "import numpy as np\n",
    "from numpy.linalg import inv as inv"
   ]
  },
  {
   "cell_type": "markdown",
   "metadata": {},
   "source": [
    "The solution of problem\n",
    "\\begin{equation}\n",
    "\\begin{aligned}\n",
    "&\\min_{\\boldsymbol{x}\\in\\mathbb{R}^{(m+n)}}~\\|\\mathcal{S}(\\boldsymbol{x})\\|_{*} \\\\\n",
    "&\\text{s.t.}~\\boldsymbol{x}_{[1:n]}=\\boldsymbol{y}, \\\\\n",
    "\\end{aligned}\n",
    "\\end{equation}\n",
    "is given by\n",
    "\n",
    "1) Construct the scaled initial data vector $\\tilde{\\boldsymbol{y}}$ as\n",
    "$$\\tilde{\\boldsymbol{y}}=\\left(y_1\\cdot\\operatorname{exp}\\left(\\frac{\\alpha}{2}\\right),y_2\\cdot\\operatorname{exp}\\left(\\frac{2\\alpha}{2}\\right),\\cdots,y_n\\cdot\\operatorname{exp}\\left(\\frac{n\\alpha}{2}\\right)\\right),$$\n",
    "for a given $\\alpha$.\n",
    "\n",
    "2) Solve the problem\n",
    "$$\\begin{aligned}\n",
    "&\\min_{\\boldsymbol{x}\\in\\mathbb{R}^{(m+n)}}~\\|\\mathcal{S}(\\boldsymbol{x})\\|_{*} \\\\\n",
    "&\\text{s.t.}~\\boldsymbol{x}_{[1:n]}=\\tilde{\\boldsymbol{y}}. \\\\\n",
    "\\end{aligned}\n",
    "$$\n",
    "\n",
    "3) Scale back the weighted values\n",
    "$$\\hat{\\boldsymbol{y}}=\\left(x_1\\cdot\\operatorname{exp}\\left(-\\frac{\\alpha}{2}\\right),x_2\\cdot\\operatorname{exp}\\left(-\\frac{2\\alpha}{2}\\right),\\cdots,x_n\\cdot\\operatorname{exp}\\left(-\\frac{n\\alpha}{2}\\right),\\cdots,x_{m+n}\\cdot\\operatorname{exp}\\left(-\\frac{(m+n)\\alpha}{2}\\right)\\right).$$"
   ]
  },
  {
   "cell_type": "code",
   "execution_count": 2,
   "metadata": {},
   "outputs": [],
   "source": [
    "def scale_to_data(vec, alpha):\n",
    "    dim = vec.shape[0]\n",
    "    new_vec = np.zeros(dim)\n",
    "    for i in range(dim):\n",
    "        new_vec[i] = vec[i] * np.exp((i + 1) * alpha / 2)\n",
    "    return new_vec\n",
    "\n",
    "def scale_back_data(vec, alpha):\n",
    "    dim = vec.shape[0]\n",
    "    new_vec = np.zeros(dim)\n",
    "    for i in range(dim):\n",
    "        new_vec[i] = vec[i] * np.exp(- (i + 1) * alpha / 2)\n",
    "    return new_vec"
   ]
  },
  {
   "cell_type": "markdown",
   "metadata": {},
   "source": [
    "What is structured low-rank matrix completion?"
   ]
  },
  {
   "cell_type": "code",
   "execution_count": 3,
   "metadata": {},
   "outputs": [],
   "source": [
    "def hankel(vec, window_length):\n",
    "    column_num = vec.shape[0] - window_length + 1\n",
    "    hankel_mat = np.zeros((window_length, column_num))\n",
    "    for i in range(window_length):\n",
    "        hankel_mat[i, :] = vec[i : column_num + i]\n",
    "    return hankel_mat\n",
    "\n",
    "def hankel2vec(mat):\n",
    "    dim1, dim2 = mat.shape\n",
    "    new_mat = np.zeros((dim1, dim1 + dim2 - 1))\n",
    "    for i in range(dim1):\n",
    "        new_mat[i, i : dim2 + i] = mat[i, :]\n",
    "    return np.true_divide(new_mat.sum(0), (new_mat != 0).sum(0))\n",
    "\n",
    "def svt(mat, tau):\n",
    "    [m,n] = mat.shape\n",
    "    if 2 * m < n:\n",
    "        u, s, v = np.linalg.svd(mat @ mat.T, full_matrices = 0)\n",
    "        s = np.sqrt(s)\n",
    "        tol = n * np.finfo(float).eps * np.max(s)\n",
    "        idx = np.sum(s > max(tau, tol))\n",
    "        mid = (s[:idx] - tau) / s[:idx]\n",
    "        return (u[:,:idx] @ np.diag(mid)) @ (u[:,:idx].T @ mat)\n",
    "    elif m > 2 * n:\n",
    "        return svt(mat.T, tau).T\n",
    "    u, s, v = np.linalg.svd(mat, full_matrices = 0)\n",
    "    idx = np.sum(s > tau)\n",
    "    return u[:,:idx] @ np.diag(s[:idx]-tau) @ v[:idx,:]\n",
    "    \n",
    "def SLRMC(vec, window_length, forecast_horizon, rho, maxiter):\n",
    "    mat = hankel(np.append(vec, np.zeros(forecast_horizon)), window_length)\n",
    "    pos_missing = np.where(mat == 0)\n",
    "    dim1, dim2 = mat.shape\n",
    "    T = np.zeros((dim1, dim2))\n",
    "    Z = mat.copy()\n",
    "    for it in range(maxiter):\n",
    "        X = svt(Z - T / rho, 1 / rho)\n",
    "        Z[pos_missing] = (X + T / rho)[pos_missing]\n",
    "        T = T + rho * (X - Z)\n",
    "        vec_hat = hankel2vec(X)\n",
    "    return vec_hat"
   ]
  },
  {
   "cell_type": "markdown",
   "metadata": {},
   "source": [
    "Toy example: forecast $\\boldsymbol{y}=\\left(1,2,3,4,5,6,?,?\\right)$ where we assume that the last two values are 7 and 8 (i.e., ground truth).\n",
    "\n",
    "Ready? Let us do it!"
   ]
  },
  {
   "cell_type": "code",
   "execution_count": 4,
   "metadata": {},
   "outputs": [
    {
     "name": "stdout",
     "output_type": "stream",
     "text": [
      "Original data sequence:\n",
      "[1 2 3 4 5 6]\n",
      "\n",
      "Forecasted data sequence:\n",
      "[1.00016074 1.9998642  2.99993493 4.00004691 5.00041026 5.99939527\n",
      " 6.99627719 7.9884971 ]\n"
     ]
    },
    {
     "name": "stderr",
     "output_type": "stream",
     "text": [
      "/var/folders/5d/p9vn920s48q67rgbvw9p_1km0000gn/T/ipykernel_12070/267474528.py:13: RuntimeWarning: invalid value encountered in true_divide\n",
      "  return np.true_divide(new_mat.sum(0), (new_mat != 0).sum(0))\n"
     ]
    }
   ],
   "source": [
    "y = np.array([1, 2, 3, 4, 5, 6])\n",
    "alpha = - 1 / 2\n",
    "window_length = 5\n",
    "forecast_horizon = 2\n",
    "rho = 0.1\n",
    "maxiter = 200\n",
    "y_tilde = scale_to_data(y, alpha)\n",
    "x = SLRMC(y_tilde, window_length, forecast_horizon, rho, maxiter)\n",
    "y_hat = scale_back_data(x, alpha)\n",
    "print('Original data sequence:')\n",
    "print(y)\n",
    "print()\n",
    "print('Forecasted data sequence:')\n",
    "print(y_hat)"
   ]
  },
  {
   "cell_type": "markdown",
   "metadata": {},
   "source": [
    "This rather obvious sequence can be easily forecasted. But how about more complicated sequences?"
   ]
  },
  {
   "cell_type": "code",
   "execution_count": 5,
   "metadata": {},
   "outputs": [],
   "source": [
    "import scipy.io\n",
    "\n",
    "tensor = scipy.io.loadmat('../datasets/Guangzhou-data-set/tensor.mat')\n",
    "tensor = tensor['tensor']\n",
    "data = tensor.reshape([tensor.shape[0], tensor.shape[1] * tensor.shape[2]])[0, - 9 * 144 :]"
   ]
  },
  {
   "cell_type": "code",
   "execution_count": 6,
   "metadata": {},
   "outputs": [],
   "source": [
    "import matplotlib.pyplot as plt\n",
    "%matplotlib inline"
   ]
  },
  {
   "cell_type": "code",
   "execution_count": 8,
   "metadata": {},
   "outputs": [
    {
     "data": {
      "image/png": "[encoded data removed]",
      "text/plain": [
       "<Figure size 1400x200 with 1 Axes>"
      ]
     },
     "metadata": {},
     "output_type": "display_data"
    }
   ],
   "source": [
    "fig = plt.figure(figsize = (14, 2))\n",
    "plt.plot(data, color = \"b\")\n",
    "plt.show()"
   ]
  },
  {
   "cell_type": "code",
   "execution_count": 9,
   "metadata": {},
   "outputs": [],
   "source": [
    "def compute_mape(var, var_hat):\n",
    "    return np.sum(np.abs(var - var_hat) / var) / var.shape[0]\n",
    "\n",
    "def compute_rmse(var, var_hat):\n",
    "    return  np.sqrt(np.sum((var - var_hat) ** 2) / var.shape[0])"
   ]
  },
  {
   "cell_type": "code",
   "execution_count": null,
   "metadata": {
    "scrolled": true
   },
   "outputs": [
    {
     "name": "stderr",
     "output_type": "stream",
     "text": [
      "/var/folders/5d/p9vn920s48q67rgbvw9p_1km0000gn/T/ipykernel_12070/474878816.py:10: DeprecationWarning: `np.int` is a deprecated alias for the builtin `int`. To silence this warning, use `int` by itself. Doing this will not modify any behavior and is safe. When replacing `np.int`, you may wish to use e.g. `np.int64` or `np.int32` to specify the precision. If you wish to review your current use, check the release note link for additional information.\n",
      "Deprecated in NumPy 1.20; for more details and guidance: https://numpy.org/devdocs/release/1.20.0-notes.html#deprecations\n",
      "  data_hat = np.zeros(np.int(steps * forecast_horizon))\n",
      "/var/folders/5d/p9vn920s48q67rgbvw9p_1km0000gn/T/ipykernel_12070/474878816.py:11: DeprecationWarning: `np.int` is a deprecated alias for the builtin `int`. To silence this warning, use `int` by itself. Doing this will not modify any behavior and is safe. When replacing `np.int`, you may wish to use e.g. `np.int64` or `np.int32` to specify the precision. If you wish to review your current use, check the release note link for additional information.\n",
      "Deprecated in NumPy 1.20; for more details and guidance: https://numpy.org/devdocs/release/1.20.0-notes.html#deprecations\n",
      "  for i in range(np.int(steps)):\n"
     ]
    }
   ],
   "source": [
    "import time\n",
    "start = time.time()\n",
    "steps = 5 * 144 / 12\n",
    "alpha = - 0.005\n",
    "window_length = 144\n",
    "forecast_horizon = 12\n",
    "rho = 0.05\n",
    "maxiter = 200\n",
    "\n",
    "data_hat = np.zeros(np.int(steps * forecast_horizon))\n",
    "for i in range(np.int(steps)):\n",
    "    y = data[: 4 * 144 + 12 * i]\n",
    "    y_tilde = scale_to_data(y, alpha)\n",
    "    x = SLRMC(y_tilde, window_length, forecast_horizon, rho, maxiter)\n",
    "    y_hat = scale_back_data(x, alpha)\n",
    "    data_hat[forecast_horizon * i : forecast_horizon * (i + 1)] = y_hat[- forecast_horizon :]\n",
    "    \n",
    "    if (i + 1) % 60 == 0:\n",
    "        fig = plt.figure(figsize = (14, 2))\n",
    "        plt.plot(data, color = \"b\")\n",
    "        plt.plot(np.arange(4 * 144, 9 * 144), data_hat, color = 'r')\n",
    "        plt.show()\n",
    "\n",
    "mape = compute_mape(data[4 * 144 :], data_hat)\n",
    "rmse = compute_rmse(data[4 * 144 :], data_hat)\n",
    "print('Prediction MAPE: {:.6}'.format(mape))\n",
    "print('Prediction RMSE: {:.6}'.format(rmse))\n",
    "end = time.time()\n",
    "print('Running time: %d seconds'%(end - start))"
   ]
  },
  {
   "cell_type": "markdown",
   "metadata": {},
   "source": [
    "This is a case of single time series forecasting. How about multivariate time series forecasting?"
   ]
  }
 ],
 "metadata": {
  "kernelspec": {
   "display_name": "Python 3 (ipykernel)",
   "language": "python",
   "name": "python3"
  },
  "language_info": {
   "codemirror_mode": {
    "name": "ipython",
    "version": 3
   },
   "file_extension": ".py",
   "mimetype": "text/x-python",
   "name": "python",
   "nbconvert_exporter": "python",
   "pygments_lexer": "ipython3",
   "version": "3.9.12"
  }
 },
 "nbformat": 4,
 "nbformat_minor": 2
}
